{
 "cells": [
  {
   "cell_type": "markdown",
   "metadata": {},
   "source": [
    "# Setup\n",
    "Imports and helper functions to access API and draw widgets."
   ]
  },
  {
   "cell_type": "code",
   "execution_count": 1,
   "metadata": {},
   "outputs": [
    {
     "name": "stdout",
     "output_type": "stream",
     "text": [
      "Populating the interactive namespace from numpy and matplotlib\n"
     ]
    }
   ],
   "source": [
    "%config InlineBackend.figure_formats = ['svg']\n",
    "%pylab inline"
   ]
  },
  {
   "cell_type": "code",
   "execution_count": 2,
   "metadata": {},
   "outputs": [],
   "source": [
    "import io\n",
    "import requests\n",
    "import pandas as pd\n",
    "\n",
    "import ipywidgets as widgets\n",
    "from ipywidgets import interact\n",
    "\n",
    "base_url = 'http://pbg-ld.candygene-nlesc.surf-hosted.nl:8088/api/candYgene/queries'\n",
    "\n",
    "def callAPI(query, params={}):\n",
    "    headers = {\"Accept\": \"text/csv\"}\n",
    "    query_url = base_url + query\n",
    "    with requests.get(base_url + query, params=params, headers=headers) as req:\n",
    "        df = pd.read_csv(io.StringIO(req.text))\n",
    "        return df\n",
    "\n",
    "def plotFeatures(graph):\n",
    "    '''Plot result of `countFeatures` for the given graph'''\n",
    "    plt.figure()\n",
    "    params = { \"graph\": graph }\n",
    "    df = callAPI('/countFeatures', params=params)\n",
    "    df = df.set_index('feature_name')\n",
    "    df['n'].plot(kind='bar')\n",
    "    #plt.title('Features for ' + graph)\n",
    "    plt.xlabel('feature')\n",
    "    plt.ylabel('count')\n",
    "    plt.show();"
   ]
  },
  {
   "cell_type": "markdown",
   "metadata": {},
   "source": [
    "# Widgets"
   ]
  },
  {
   "cell_type": "code",
   "execution_count": 3,
   "metadata": {},
   "outputs": [],
   "source": [
    "graphs = ['http://solgenomics.net/genome/Solanum_lycopersicum',\n",
    "          'http://solgenomics.net/genome/Solanum_pennellii',\n",
    "          'http://solgenomics.net/genome/Solanum_tuberosum',\n",
    "          'http://plants.ensembl.org/Solanum_lycopersicum',\n",
    "          'http://plants.ensembl.org/Solanum_tuberosum']"
   ]
  },
  {
   "cell_type": "code",
   "execution_count": 4,
   "metadata": {},
   "outputs": [
    {
     "data": {
      "application/vnd.jupyter.widget-view+json": {
       "model_id": "bda3ab8fa8054486a1954888d3d56168",
       "version_major": 2,
       "version_minor": 0
      },
      "text/plain": [
       "interactive(children=(Dropdown(description='graph', options=('http://solgenomics.net/genome/Solanum_lycopersic…"
      ]
     },
     "metadata": {},
     "output_type": "display_data"
    }
   ],
   "source": [
    "interact(plotFeatures, graph=graphs);"
   ]
  }
 ],
 "metadata": {
  "kernelspec": {
   "display_name": "Python 3",
   "language": "python",
   "name": "python3"
  },
  "language_info": {
   "codemirror_mode": {
    "name": "ipython",
    "version": 3
   },
   "file_extension": ".py",
   "mimetype": "text/x-python",
   "name": "python",
   "nbconvert_exporter": "python",
   "pygments_lexer": "ipython3",
   "version": "3.6.8"
  }
 },
 "nbformat": 4,
 "nbformat_minor": 2
}
